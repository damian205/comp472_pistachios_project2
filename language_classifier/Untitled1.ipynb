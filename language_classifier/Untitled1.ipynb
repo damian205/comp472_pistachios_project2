{
 "cells": [
  {
   "cell_type": "code",
   "execution_count": 10,
   "metadata": {},
   "outputs": [
    {
     "name": "stdout",
     "output_type": "stream",
     "text": [
      "Language\n",
      "Content\n"
     ]
    }
   ],
   "source": [
    "import pandas as pd\n",
    "import numpy as np\n",
    "df_of_train_tweets = None\n",
    "with open('training-tweets.txt', encoding='utf8') as file:\n",
    "    language_list = []\n",
    "    content_list = []\n",
    "    for line in file.readlines():\n",
    "        try:\n",
    "            tweet_id, user_name, language, tweet = line.split(maxsplit=3)\n",
    "            language_list.append(language.strip())\n",
    "            content_list.append(tweet.strip())\n",
    "        except ValueError:\n",
    "            pass\n",
    "    data = {'Language': language_list, 'Content': content_list}\n",
    "    df_of_train_tweets = pd.DataFrame.from_dict(data)      \n",
    "\n",
    "for en in df_of_train_tweets :\n",
    "    print (en)"
   ]
  },
  {
   "cell_type": "code",
   "execution_count": null,
   "metadata": {},
   "outputs": [],
   "source": []
  }
 ],
 "metadata": {
  "kernelspec": {
   "display_name": "Python 3",
   "language": "python",
   "name": "python3"
  },
  "language_info": {
   "codemirror_mode": {
    "name": "ipython",
    "version": 3
   },
   "file_extension": ".py",
   "mimetype": "text/x-python",
   "name": "python",
   "nbconvert_exporter": "python",
   "pygments_lexer": "ipython3",
   "version": "3.7.3"
  }
 },
 "nbformat": 4,
 "nbformat_minor": 2
}
